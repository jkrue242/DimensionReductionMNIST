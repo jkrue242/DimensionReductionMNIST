{
 "cells": [
  {
   "cell_type": "code",
   "execution_count": 5,
   "metadata": {},
   "outputs": [
    {
     "name": "stdout",
     "output_type": "stream",
     "text": [
      "Collecting torch\n",
      "  Using cached torch-2.1.1-cp310-none-macosx_11_0_arm64.whl.metadata (25 kB)\n",
      "Collecting filelock (from torch)\n",
      "  Using cached filelock-3.13.1-py3-none-any.whl.metadata (2.8 kB)\n",
      "Requirement already satisfied: typing-extensions in /opt/homebrew/lib/python3.10/site-packages (from torch) (4.3.0)\n",
      "Collecting sympy (from torch)\n",
      "  Using cached sympy-1.12-py3-none-any.whl (5.7 MB)\n",
      "Collecting networkx (from torch)\n",
      "  Using cached networkx-3.2.1-py3-none-any.whl.metadata (5.2 kB)\n",
      "Requirement already satisfied: jinja2 in /opt/homebrew/lib/python3.10/site-packages (from torch) (3.1.2)\n",
      "Collecting fsspec (from torch)\n",
      "  Using cached fsspec-2023.12.1-py3-none-any.whl.metadata (6.8 kB)\n",
      "Requirement already satisfied: MarkupSafe>=2.0 in /opt/homebrew/lib/python3.10/site-packages (from jinja2->torch) (2.1.1)\n",
      "Collecting mpmath>=0.19 (from sympy->torch)\n",
      "  Using cached mpmath-1.3.0-py3-none-any.whl (536 kB)\n",
      "Using cached torch-2.1.1-cp310-none-macosx_11_0_arm64.whl (59.6 MB)\n",
      "Using cached filelock-3.13.1-py3-none-any.whl (11 kB)\n",
      "Using cached fsspec-2023.12.1-py3-none-any.whl (168 kB)\n",
      "Using cached networkx-3.2.1-py3-none-any.whl (1.6 MB)\n",
      "Installing collected packages: mpmath, sympy, networkx, fsspec, filelock, torch\n",
      "Successfully installed filelock-3.13.1 fsspec-2023.12.1 mpmath-1.3.0 networkx-3.2.1 sympy-1.12 torch-2.1.1\n"
     ]
    }
   ],
   "source": [
    "!pip install torch"
   ]
  },
  {
   "cell_type": "code",
   "execution_count": 6,
   "metadata": {},
   "outputs": [
    {
     "name": "stdout",
     "output_type": "stream",
     "text": [
      "Collecting torchvision\n",
      "  Using cached torchvision-0.16.1-cp310-cp310-macosx_11_0_arm64.whl.metadata (6.6 kB)\n",
      "Requirement already satisfied: numpy in /opt/homebrew/lib/python3.10/site-packages (from torchvision) (1.23.5)\n",
      "Requirement already satisfied: requests in /opt/homebrew/lib/python3.10/site-packages (from torchvision) (2.31.0)\n",
      "Requirement already satisfied: torch==2.1.1 in /opt/homebrew/lib/python3.10/site-packages (from torchvision) (2.1.1)\n",
      "Requirement already satisfied: pillow!=8.3.*,>=5.3.0 in /opt/homebrew/lib/python3.10/site-packages (from torchvision) (9.2.0)\n",
      "Requirement already satisfied: filelock in /opt/homebrew/lib/python3.10/site-packages (from torch==2.1.1->torchvision) (3.13.1)\n",
      "Requirement already satisfied: typing-extensions in /opt/homebrew/lib/python3.10/site-packages (from torch==2.1.1->torchvision) (4.3.0)\n",
      "Requirement already satisfied: sympy in /opt/homebrew/lib/python3.10/site-packages (from torch==2.1.1->torchvision) (1.12)\n",
      "Requirement already satisfied: networkx in /opt/homebrew/lib/python3.10/site-packages (from torch==2.1.1->torchvision) (3.2.1)\n",
      "Requirement already satisfied: jinja2 in /opt/homebrew/lib/python3.10/site-packages (from torch==2.1.1->torchvision) (3.1.2)\n",
      "Requirement already satisfied: fsspec in /opt/homebrew/lib/python3.10/site-packages (from torch==2.1.1->torchvision) (2023.12.1)\n",
      "Requirement already satisfied: charset-normalizer<4,>=2 in /opt/homebrew/lib/python3.10/site-packages (from requests->torchvision) (2.1.1)\n",
      "Requirement already satisfied: idna<4,>=2.5 in /opt/homebrew/lib/python3.10/site-packages (from requests->torchvision) (3.3)\n",
      "Requirement already satisfied: urllib3<3,>=1.21.1 in /opt/homebrew/lib/python3.10/site-packages (from requests->torchvision) (1.26.12)\n",
      "Requirement already satisfied: certifi>=2017.4.17 in /opt/homebrew/lib/python3.10/site-packages (from requests->torchvision) (2022.6.15)\n",
      "Requirement already satisfied: MarkupSafe>=2.0 in /opt/homebrew/lib/python3.10/site-packages (from jinja2->torch==2.1.1->torchvision) (2.1.1)\n",
      "Requirement already satisfied: mpmath>=0.19 in /opt/homebrew/lib/python3.10/site-packages (from sympy->torch==2.1.1->torchvision) (1.3.0)\n",
      "Using cached torchvision-0.16.1-cp310-cp310-macosx_11_0_arm64.whl (1.5 MB)\n",
      "Installing collected packages: torchvision\n",
      "Successfully installed torchvision-0.16.1\n"
     ]
    }
   ],
   "source": [
    "!pip install torchvision"
   ]
  },
  {
   "cell_type": "code",
   "execution_count": 1,
   "metadata": {},
   "outputs": [],
   "source": [
    "\n",
    "import numpy as np\n",
    "import matplotlib.pyplot as plt\n",
    "from PIL import Image\n",
    "\n",
    "import torch\n",
    "import torch.nn.functional as F\n",
    "import torchvision.transforms as transforms\n",
    "\n",
    "from sklearn.metrics.pairwise import polynomial_kernel, rbf_kernel\n",
    "from scipy.linalg import svd\n",
    "import numpy as np\n",
    "from keras.datasets import mnist\n",
    "from sklearn.model_selection import train_test_split\n",
    "from sklearn.decomposition import TruncatedSVD\n",
    "import matplotlib.pyplot as plt\n",
    "import pandas as pd\n",
    "from scipy.ndimage import center_of_mass\n",
    "from math import sqrt, inf, floor"
   ]
  },
  {
   "cell_type": "code",
   "execution_count": 2,
   "metadata": {},
   "outputs": [],
   "source": [
    "## Fisheye Transformation\n",
    "def get_of_fisheye(height, width, center, magnitude):\n",
    "  xx, yy = torch.linspace(-1, 1, width), torch.linspace(-1, 1, height)\n",
    "  gridy, gridx  = torch.meshgrid(yy, xx)   #create identity grid\n",
    "  grid = torch.stack([gridx, gridy], dim=-1)\n",
    "  d = center - grid         #calculate the distance(cx - x, cy - y) \n",
    "  d_sum = torch.sqrt((d**2).sum(axis=-1)) # sqrt((cx-x)**2 + (cy-y)**2)\n",
    "  grid += d * d_sum.unsqueeze(-1) * magnitude #calculate dx & dy and add to original values\n",
    "  return grid.unsqueeze(0)    #unsqueeze(0) since the grid needs to be 4D.\n",
    "\n",
    "## Horizontal Wave Transformation\n",
    "def get_of_horizontalwave(height, width, freq, amplitude):\n",
    "  xx, yy = torch.linspace(-1, 1, width), torch.linspace(-1, 1, height)\n",
    "  gridy, gridx = torch.meshgrid(yy, xx) #create identity grid\n",
    "  grid = torch.stack([gridx, gridy], dim=-1)\n",
    "  dy = amplitude * torch.cos(freq * grid[:,:,0]) #calculate dy\n",
    "  grid[:,:,1] += dy\n",
    "  return grid.unsqueeze(0)  #unsqueeze(0) since the grid needs to be 4D.\n",
    "\n",
    "\n",
    "def plot(img, fisheye_output, hwave_output):\n",
    "  fisheye_out = fisheye_output[0].numpy()\n",
    "  fisheye_out = np.moveaxis(fisheye_out, 0,-1)\n",
    "\n",
    "  hwave_out = hwave_output[0].numpy()\n",
    "  hwave_out = np.moveaxis(hwave_out, 0,-1)\n",
    "\n",
    "  fig, ax = plt.subplots(1,3, figsize=(16,4))\n",
    "  ax[0].imshow(img)\n",
    "  ax[1].imshow(fisheye_out)\n",
    "  ax[2].imshow(hwave_out)\n",
    "\n",
    "  ax[0].set_title('Input Image(Checkerboard)')\n",
    "  ax[1].set_title('Fisheye')\n",
    "  ax[2].set_title('Horizontal Wave Tfms')\n",
    "  plt.show()"
   ]
  },
  {
   "cell_type": "code",
   "execution_count": 3,
   "metadata": {},
   "outputs": [],
   "source": [
    "(images, labels), (_, _) = mnist.load_data()\n",
    "images.shape\n",
    "\n",
    "flattened_images = images.reshape(images.shape[0], -1)"
   ]
  },
  {
   "cell_type": "code",
   "execution_count": 6,
   "metadata": {},
   "outputs": [
    {
     "ename": "RuntimeError",
     "evalue": "grid_sampler(): expected grid and input to have same batch size, but got input with sizes [60000, 28, 28] and grid with sizes [1, 28, 28, 2]",
     "output_type": "error",
     "traceback": [
      "\u001b[0;31m---------------------------------------------------------------------------\u001b[0m",
      "\u001b[0;31mRuntimeError\u001b[0m                              Traceback (most recent call last)",
      "Cell \u001b[0;32mIn[6], line 4\u001b[0m\n\u001b[1;32m      1\u001b[0m fisheye_grid \u001b[39m=\u001b[39m get_of_fisheye(\u001b[39m28\u001b[39m, \u001b[39m28\u001b[39m, torch\u001b[39m.\u001b[39mtensor([\u001b[39m14\u001b[39m, \u001b[39m14\u001b[39m]), \u001b[39m0.4\u001b[39m)\n\u001b[1;32m      2\u001b[0m hwave_grid \u001b[39m=\u001b[39m get_of_horizontalwave(\u001b[39m28\u001b[39m, \u001b[39m28\u001b[39m, \u001b[39m10\u001b[39m, \u001b[39m0.1\u001b[39m)\n\u001b[0;32m----> 4\u001b[0m fisheye_output \u001b[39m=\u001b[39m F\u001b[39m.\u001b[39;49mgrid_sample(torch\u001b[39m.\u001b[39;49mtensor(images), fisheye_grid, align_corners\u001b[39m=\u001b[39;49m\u001b[39mTrue\u001b[39;49;00m)\n\u001b[1;32m      5\u001b[0m hwave_output \u001b[39m=\u001b[39m F\u001b[39m.\u001b[39mgrid_sample(torch\u001b[39m.\u001b[39mtensor(images), hwave_grid, align_corners\u001b[39m=\u001b[39m\u001b[39mTrue\u001b[39;00m)\n\u001b[1;32m      6\u001b[0m plot(img, fisheye_output, hwave_output)\n",
      "File \u001b[0;32m/opt/homebrew/lib/python3.10/site-packages/torch/nn/functional.py:4304\u001b[0m, in \u001b[0;36mgrid_sample\u001b[0;34m(input, grid, mode, padding_mode, align_corners)\u001b[0m\n\u001b[1;32m   4296\u001b[0m     warnings\u001b[39m.\u001b[39mwarn(\n\u001b[1;32m   4297\u001b[0m         \u001b[39m\"\u001b[39m\u001b[39mDefault grid_sample and affine_grid behavior has changed \u001b[39m\u001b[39m\"\u001b[39m\n\u001b[1;32m   4298\u001b[0m         \u001b[39m\"\u001b[39m\u001b[39mto align_corners=False since 1.3.0. Please specify \u001b[39m\u001b[39m\"\u001b[39m\n\u001b[1;32m   4299\u001b[0m         \u001b[39m\"\u001b[39m\u001b[39malign_corners=True if the old behavior is desired. \u001b[39m\u001b[39m\"\u001b[39m\n\u001b[1;32m   4300\u001b[0m         \u001b[39m\"\u001b[39m\u001b[39mSee the documentation of grid_sample for details.\u001b[39m\u001b[39m\"\u001b[39m\n\u001b[1;32m   4301\u001b[0m     )\n\u001b[1;32m   4302\u001b[0m     align_corners \u001b[39m=\u001b[39m \u001b[39mFalse\u001b[39;00m\n\u001b[0;32m-> 4304\u001b[0m \u001b[39mreturn\u001b[39;00m torch\u001b[39m.\u001b[39;49mgrid_sampler(\u001b[39minput\u001b[39;49m, grid, mode_enum, padding_mode_enum, align_corners)\n",
      "\u001b[0;31mRuntimeError\u001b[0m: grid_sampler(): expected grid and input to have same batch size, but got input with sizes [60000, 28, 28] and grid with sizes [1, 28, 28, 2]"
     ]
    }
   ],
   "source": [
    "fisheye_grid = get_of_fisheye(28, 28, torch.tensor([14, 14]), 0.4)\n",
    "hwave_grid = get_of_horizontalwave(28, 28, 10, 0.1)\n",
    "\n",
    "fisheye_output = F.grid_sample(torch.tensor(images), fisheye_grid, align_corners=True)\n",
    "hwave_output = F.grid_sample(torch.tensor(images), hwave_grid, align_corners=True)\n",
    "plot(img, fisheye_output, hwave_output)"
   ]
  },
  {
   "cell_type": "code",
   "execution_count": null,
   "metadata": {},
   "outputs": [],
   "source": []
  }
 ],
 "metadata": {
  "kernelspec": {
   "display_name": "Python 3",
   "language": "python",
   "name": "python3"
  },
  "language_info": {
   "codemirror_mode": {
    "name": "ipython",
    "version": 3
   },
   "file_extension": ".py",
   "mimetype": "text/x-python",
   "name": "python",
   "nbconvert_exporter": "python",
   "pygments_lexer": "ipython3",
   "version": "3.10.6"
  },
  "orig_nbformat": 4,
  "vscode": {
   "interpreter": {
    "hash": "cf42cc9b8d3f8425c3cab6417625363bc5c757b41fc9cbf92d563151e60765bb"
   }
  }
 },
 "nbformat": 4,
 "nbformat_minor": 2
}
