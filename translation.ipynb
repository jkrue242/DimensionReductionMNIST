{
 "cells": [
  {
   "cell_type": "code",
   "execution_count": 2,
   "metadata": {},
   "outputs": [],
   "source": [
    "import numpy as np\n",
    "from sklearn.decomposition import TruncatedSVD\n",
    "import matplotlib.pyplot as plt\n",
    "import numpy as np\n",
    "import matplotlib.pyplot as plt\n",
    "from keras.datasets import mnist\n",
    "import pandas as pd\n",
    "from scipy.ndimage import center_of_mass"
   ]
  },
  {
   "cell_type": "code",
   "execution_count": 3,
   "metadata": {},
   "outputs": [
    {
     "name": "stdout",
     "output_type": "stream",
     "text": [
      "(60000, 784)\n"
     ]
    }
   ],
   "source": [
    "(images, _), (_, _) = mnist.load_data()\n",
    "flattened = images.reshape(images.shape[0], -1)\n",
    "print(flattened.shape)\n",
    "\n",
    "# SVD\n",
    "svd = TruncatedSVD(n_components=(28*28) - 1)\n",
    "X_svd = svd.fit_transform(flattened)"
   ]
  },
  {
   "cell_type": "code",
   "execution_count": 4,
   "metadata": {},
   "outputs": [
    {
     "name": "stdout",
     "output_type": "stream",
     "text": [
      "(60000, 2)\n"
     ]
    }
   ],
   "source": [
    "center_of_mass = np.array([center_of_mass(img) for img in images])\n",
    "print(center_of_mass.shape)"
   ]
  },
  {
   "cell_type": "code",
   "execution_count": 5,
   "metadata": {},
   "outputs": [
    {
     "name": "stdout",
     "output_type": "stream",
     "text": [
      "(60000, 2)\n"
     ]
    }
   ],
   "source": [
    "# Step 4: Calculate the translation vector as the offset to the desired center (14, 14)\n",
    "center_of_images = np.full((60000, 2), [14, 14])\n",
    "print(center_of_images.shape)"
   ]
  },
  {
   "cell_type": "code",
   "execution_count": 6,
   "metadata": {},
   "outputs": [
    {
     "name": "stdout",
     "output_type": "stream",
     "text": [
      "(60000, 2)\n"
     ]
    }
   ],
   "source": [
    "b = center_of_images - center_of_mass\n",
    "print(b.shape)"
   ]
  },
  {
   "cell_type": "code",
   "execution_count": 7,
   "metadata": {},
   "outputs": [],
   "source": [
    "translated_images = np.concatenate((flattened, b), axis=1)\n",
    "\n",
    "\n",
    "# Step 8: Perform SVD on the translated dataset\n",
    "svd_translated = TruncatedSVD(n_components=(28*28) - 1)\n",
    "X_translated_svd = svd_translated.fit_transform(translated_images)"
   ]
  },
  {
   "cell_type": "code",
   "execution_count": 8,
   "metadata": {},
   "outputs": [
    {
     "ename": "AttributeError",
     "evalue": "'TruncatedSVD' object has no attribute 'singular_values'",
     "output_type": "error",
     "traceback": [
      "\u001b[0;31m---------------------------------------------------------------------------\u001b[0m",
      "\u001b[0;31mAttributeError\u001b[0m                            Traceback (most recent call last)",
      "Cell \u001b[0;32mIn[8], line 3\u001b[0m\n\u001b[1;32m      1\u001b[0m plt\u001b[39m.\u001b[39mfigure(figsize\u001b[39m=\u001b[39m(\u001b[39m12\u001b[39m, \u001b[39m4\u001b[39m))\n\u001b[1;32m      2\u001b[0m plt\u001b[39m.\u001b[39msubplot(\u001b[39m131\u001b[39m)\n\u001b[0;32m----> 3\u001b[0m plt\u001b[39m.\u001b[39mplot(svd\u001b[39m.\u001b[39;49msingular_values, marker\u001b[39m=\u001b[39m\u001b[39m'\u001b[39m\u001b[39mo\u001b[39m\u001b[39m'\u001b[39m, markersize\u001b[39m=\u001b[39m\u001b[39m1\u001b[39m)\n\u001b[1;32m      4\u001b[0m plt\u001b[39m.\u001b[39mtitle(\u001b[39m\"\u001b[39m\u001b[39mSingular Values of Original Dataset\u001b[39m\u001b[39m\"\u001b[39m)\n\u001b[1;32m      5\u001b[0m plt\u001b[39m.\u001b[39mxlabel(\u001b[39m\"\u001b[39m\u001b[39mSingular Value Index\u001b[39m\u001b[39m\"\u001b[39m)\n",
      "\u001b[0;31mAttributeError\u001b[0m: 'TruncatedSVD' object has no attribute 'singular_values'"
     ]
    },
    {
     "data": {
      "image/png": "[encoded data removed]",
      "text/plain": [
       "<Figure size 1200x400 with 1 Axes>"
      ]
     },
     "metadata": {},
     "output_type": "display_data"
    }
   ],
   "source": [
    "plt.figure(figsize=(12, 4))\n",
    "plt.subplot(131)\n",
    "plt.plot(svd.singular_values, marker='o', markersize=1)\n",
    "plt.title(\"Singular Values of Original Dataset\")\n",
    "plt.xlabel(\"Singular Value Index\")\n",
    "plt.ylabel(\"Explained Variance Ratio\")\n",
    "plt.grid(True)\n",
    "\n",
    "plt.subplot(132)\n",
    "plt.plot(svd_translated.singular_values, marker='o', color='orange', markersize=1)\n",
    "plt.title(\"Singular Values of Translated Dataset\")\n",
    "plt.xlabel(\"Singular Value Index\")\n",
    "plt.ylabel(\"Explained Variance Ratio\")\n",
    "plt.grid(True)"
   ]
  },
  {
   "cell_type": "code",
   "execution_count": null,
   "metadata": {},
   "outputs": [],
   "source": []
  }
 ],
 "metadata": {
  "kernelspec": {
   "display_name": "Python 3",
   "language": "python",
   "name": "python3"
  },
  "language_info": {
   "codemirror_mode": {
    "name": "ipython",
    "version": 3
   },
   "file_extension": ".py",
   "mimetype": "text/x-python",
   "name": "python",
   "nbconvert_exporter": "python",
   "pygments_lexer": "ipython3",
   "version": "3.10.6"
  },
  "orig_nbformat": 4,
  "vscode": {
   "interpreter": {
    "hash": "cf42cc9b8d3f8425c3cab6417625363bc5c757b41fc9cbf92d563151e60765bb"
   }
  }
 },
 "nbformat": 4,
 "nbformat_minor": 2
}
